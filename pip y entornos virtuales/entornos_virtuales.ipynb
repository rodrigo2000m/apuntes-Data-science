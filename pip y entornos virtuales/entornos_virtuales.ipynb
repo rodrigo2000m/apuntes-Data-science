{
 "cells": [
  {
   "attachments": {},
   "cell_type": "markdown",
   "metadata": {},
   "source": [
    "# Entornos virtuales\n",
    "\n",
    "Evitan choques entre modulos tenien"
   ]
  },
  {
   "attachments": {},
   "cell_type": "markdown",
   "metadata": {},
   "source": [
    "## Instalación en toda la computadora\n",
    "Para instalar programas desde la bash se debe actualizar la lista de fuentes\n",
    "```bash\n",
    "$ sudo apt-get update\n",
    "$ sudo apt-get upgrade\n",
    "```\n",
    "\n",
    "Recien en ese punto se puede instalar python y pip\n",
    "```bash\n",
    "$ sudo apt install python3\n",
    "$ sudo apt install pyhton3-pip\n",
    "```\n",
    "\n",
    "En <a href=\"pypi.org\">pypi</a> se encuentran todos los paquetes de python con los cuales se puede trabajar.\n",
    "\n",
    "Para instalar paquetes utilizo:\n",
    "```bash\n",
    "$ pip install package.name\n",
    "```"
   ]
  },
  {
   "attachments": {},
   "cell_type": "markdown",
   "metadata": {},
   "source": [
    "\n",
    "## Instalación en ambientes virtuales\n",
    "Para instalar el ambiente virtual en wsl se debe instalar:\n",
    "```bash\n",
    "$ apt install -y python3-venv\n",
    "```\n",
    "Dentro de la carpeta donde voy a aislar el ambiente ejecuto:\n",
    "```bash\n",
    "$ python3 -m venv env\n",
    "```\n",
    "env es el nombre del ambiente que quiero aislar (usalmente se usa env ya que crea una carpeta con ese nombre)\n",
    "\n",
    "Para activar el ambiente ejecuto:\n",
    "```bash\n",
    "$ source env/bin/activate \n",
    "```\n",
    "Para salir del ambiente:\n",
    "```bash\n",
    "$ deactivate \n",
    "```\n",
    "\n",
    "Dentro del ambiente se puden instalar los paquetes que se quiera:\n",
    "```bash\n",
    "$ pip3 install package-name\n",
    "$ pip3 freeze # para ver los paquetes instalados\n",
    "```"
   ]
  },
  {
   "attachments": {},
   "cell_type": "markdown",
   "metadata": {},
   "source": [
    "### requirements.txt\n",
    "Para instalar varios paquetes que tengo en otro ambiente de trabajo.\n",
    "```sh\n",
    "$ pip3 freeze > requirements.txt\n",
    "```\n",
    "Para instalar todos estos paquetes en un nuevo entorno:\n",
    "```sh\n",
    "$ pip3 install -r requirements.txt\n",
    "```\n"
   ]
  },
  {
   "attachments": {},
   "cell_type": "markdown",
   "metadata": {},
   "source": [
    "## Docker\n",
    "Herramienta para aislar entornos y versiones de python. Trabaja con contenedores.\n",
    "\n",
    "Para comenzar se debe crear un archivo <b>Dockerfile</b>\n",
    "```dockerfile\n",
    "FROM python:3.8 #digo la version de py\n",
    "\n",
    "# creo una carpeta dentro del contenedor\n",
    "WORKDIR /app\n",
    "\n",
    "    #origen en mi pc    #lo copio donde se va a ejecutar\n",
    "COPY requirements.txt /app/equirements.txt\n",
    "\n",
    "RUN pip install --no-cache-dir --upgrade -r /app/requirements.txt\n",
    "\n",
    "# copio todos los archivos\n",
    "COPY . app/ \n",
    "\n",
    "CMD bash -c \"while true: do sleep 1; done\"\n",
    "```\n",
    "\n",
    "\n",
    "Además creo otro archivo <b>docker-compose.yml</b>\n",
    "```yml\n",
    "services:\n",
    "    app-csv:\n",
    "        build:\n",
    "            context:\n",
    "            dockerfie: Dockerfile\n",
    "        volumes: #este codigo es para que se sincronice automaticamente\n",
    "            - .:/app \n",
    "```"
   ]
  }
 ],
 "metadata": {
  "kernelspec": {
   "display_name": "Python 3",
   "language": "python",
   "name": "python3"
  },
  "language_info": {
   "codemirror_mode": {
    "name": "ipython",
    "version": 3
   },
   "file_extension": ".py",
   "mimetype": "text/x-python",
   "name": "python",
   "nbconvert_exporter": "python",
   "pygments_lexer": "ipython3",
   "version": "3.11.1 (tags/v3.11.1:a7a450f, Dec  6 2022, 19:58:39) [MSC v.1934 64 bit (AMD64)]"
  },
  "orig_nbformat": 4,
  "vscode": {
   "interpreter": {
    "hash": "c261aea317cc0286b3b3261fbba9abdec21eaa57589985bb7a274bf54d6cc0a7"
   }
  }
 },
 "nbformat": 4,
 "nbformat_minor": 2
}
