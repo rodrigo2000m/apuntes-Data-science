{
 "cells": [
  {
   "attachments": {},
   "cell_type": "markdown",
   "metadata": {},
   "source": [
    "# Configuración Profesional de Entorno de Trabajo para Ciencia de Datos\n",
    "\n",
    "<b> Plantilllas </b> <br>\n",
    "Medio que posibilita portar o construir un diseño predefinido.\n",
    "Permite:\n",
    "- agilizar el trabajo\n",
    "- evita fatiga por decisión\n",
    "\n",
    "## Cookiecutter\n",
    "Manejador de plantillas que trabajo con varios lenguajes.\n",
    "```\n",
    "{{cookiecutter.saluda}}\n",
    "{% if cookiecutter.eres_asombroso%}\n",
    "{#Esto es un comentario#}\n",
    "```\n",
    "\n",
    "Se puede instalar utilizando conda\n",
    "```\n",
    "$ conda config --add channels conda-forge \n",
    "$ conda create --name cookiecutter-personal cookiecutter=1.7.3\n",
    "$ conda activate cookiecutter-personal\n",
    "$ conda env export --from-history --file environment.yml\n",
    "```\n",
    "\n",
    "Se puede instalar con pip\n",
    "```\n",
    "$ pip install cookiecutter\n",
    "```"
   ]
  },
  {
   "attachments": {},
   "cell_type": "markdown",
   "metadata": {},
   "source": [
    "Para traer una plantilla:\n",
    "```\n",
    "cookiecutter link_github\n",
    "```"
   ]
  },
  {
   "attachments": {},
   "cell_type": "markdown",
   "metadata": {},
   "source": [
    "<html>\n",
    "<iframe width=\"560\" height=\"315\" src=\"https://www.youtube.com/embed/kmbOzY3WjiE\" title=\"YouTube video player\" frameborder=\"0\" allow=\"accelerometer; autoplay; clipboard-write; encrypted-media; gyroscope; picture-in-picture; web-share\" allowfullscreen></iframe>\n",
    "</html>"
   ]
  }
 ],
 "metadata": {
  "kernelspec": {
   "display_name": "Python 3",
   "language": "python",
   "name": "python3"
  },
  "language_info": {
   "codemirror_mode": {
    "name": "ipython",
    "version": 3
   },
   "file_extension": ".py",
   "mimetype": "text/x-python",
   "name": "python",
   "nbconvert_exporter": "python",
   "pygments_lexer": "ipython3",
   "version": "3.11.1 (tags/v3.11.1:a7a450f, Dec  6 2022, 19:58:39) [MSC v.1934 64 bit (AMD64)]"
  },
  "orig_nbformat": 4,
  "vscode": {
   "interpreter": {
    "hash": "c261aea317cc0286b3b3261fbba9abdec21eaa57589985bb7a274bf54d6cc0a7"
   }
  }
 },
 "nbformat": 4,
 "nbformat_minor": 2
}
