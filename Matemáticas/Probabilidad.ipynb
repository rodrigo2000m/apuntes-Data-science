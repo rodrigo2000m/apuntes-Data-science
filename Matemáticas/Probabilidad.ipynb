{
 "cells": [
  {
   "attachments": {},
   "cell_type": "markdown",
   "metadata": {},
   "source": [
    "# Probabilidad en data science"
   ]
  },
  {
   "attachments": {},
   "cell_type": "markdown",
   "metadata": {},
   "source": [
    "$$\n",
    "P = \\frac{N° de sucesos exitosos}{N° de sucesos totales}\n",
    "$$\n",
    "\n",
    "## Escuelas de pensamiento\n",
    "Bayesiana y frecuentista\n",
    "\n",
    "## Axiomas\n",
    "$$\n",
    "0 \\leq P \\leq 1 dodne P=1 implica certeza y P=0 implica imposibilidad\n",
    "$$\n",
    "\n",
    "$$\n",
    "Disjuntos \\xrightarrow {} P(A \\bigcup B)=P(A)+P(B)\n",
    "$$\n",
    "\n",
    "\n",
    "## Tipos de probabilidad\n",
    "#### Conjunta (joint)\n",
    "Regla del producto:\n",
    "$$P(A,B)=P(A|B)P(B)$$\n",
    "#### Marginal\n",
    "$$P(B)=\\sum_{b}P(A,B)$$\n",
    "#### Condicional\n",
    "$$P(A|B)$$"
   ]
  },
  {
   "attachments": {},
   "cell_type": "markdown",
   "metadata": {},
   "source": [
    "## Distribuciones\n",
    "$X \\hspace{1em} aleatoria \\xrightarrow{} P(X=x)$\n",
    "$$P=f(X)$$\n",
    "$X \\hspace{1em} variable \\hspace{1em} aleatoria$\n",
    "$x \\hspace{1em} valores \\hspace{1em} posibles \\hspace{1em} en \\hspace{1em}el \\hspace{1em} espacio\\hspace{1em} muestral$"
   ]
  },
  {
   "attachments": {},
   "cell_type": "markdown",
   "metadata": {},
   "source": [
    "Para variables continuas: $$ P(X\\leq x) = \\int\\limits_{X\\leq x} P(x) dx$$\n",
    "Para variables discretas: $$P(X\\leq x) = \\sum_{X\\leq x}P(X)$$"
   ]
  },
  {
   "attachments": {},
   "cell_type": "markdown",
   "metadata": {},
   "source": [
    "### Distribución de Bernoulli\n",
    "Variables con ocurrencias binarias\n",
    "$$P(X=1)=p$$\n",
    "$$P(X=0)=1-p$$\n",
    "\n",
    "Para n lanzamientos (de monedas por ejemplo):\n",
    "$$P(k; n,p)={n\\choose k}p^{k}(1-p)^{n-k}$$\n",
    "tal que:\n",
    "$${n\\choose k}=\\frac{n!}{k!(n-k)!}$$"
   ]
  },
  {
   "cell_type": "code",
   "execution_count": 1,
   "metadata": {},
   "outputs": [],
   "source": [
    "import numpy as np\n",
    "from numpy.random import binomial\n",
    "from scipy.stats import binom\n",
    "from math import factorial\n",
    "import matplotlib.pyplot as plt"
   ]
  },
  {
   "cell_type": "code",
   "execution_count": 2,
   "metadata": {},
   "outputs": [],
   "source": [
    "def my_binomial(k, n, p):\n",
    "    return factorial(n)/((factorial(k))*(factorial(n-k)))*pow(p,k)*pow(1-p, n-k)"
   ]
  },
  {
   "cell_type": "code",
   "execution_count": 41,
   "metadata": {},
   "outputs": [
    {
     "data": {
      "text/plain": [
       "0.3750000000000001"
      ]
     },
     "execution_count": 41,
     "metadata": {},
     "output_type": "execute_result"
    }
   ],
   "source": [
    "dist = binom(3, 0.5) #se lanza 3 veces la mones y la probabilidad de cara es 50%\n",
    "dist.pmf(2) #probabilidad de que 2 sean iguales"
   ]
  },
  {
   "cell_type": "code",
   "execution_count": 40,
   "metadata": {},
   "outputs": [
    {
     "data": {
      "text/plain": [
       "0.3125"
      ]
     },
     "execution_count": 40,
     "metadata": {},
     "output_type": "execute_result"
    }
   ],
   "source": [
    "5/16"
   ]
  },
  {
   "cell_type": "code",
   "execution_count": 42,
   "metadata": {},
   "outputs": [
    {
     "data": {
      "text/plain": [
       "0.875"
      ]
     },
     "execution_count": 42,
     "metadata": {},
     "output_type": "execute_result"
    }
   ],
   "source": [
    "dist.cdf(2) #probabilidad de que salgan 2 o menos caras igales"
   ]
  },
  {
   "cell_type": "code",
   "execution_count": 43,
   "metadata": {},
   "outputs": [
    {
     "data": {
      "text/plain": [
       "0.875"
      ]
     },
     "execution_count": 43,
     "metadata": {},
     "output_type": "execute_result"
    }
   ],
   "source": [
    "7/8"
   ]
  },
  {
   "cell_type": "code",
   "execution_count": 6,
   "metadata": {},
   "outputs": [
    {
     "data": {
      "text/plain": [
       "3"
      ]
     },
     "execution_count": 6,
     "metadata": {},
     "output_type": "execute_result"
    }
   ],
   "source": [
    "#generadores aleatorios\n",
    "p=0.5\n",
    "n=3\n",
    "binomial(n, p)"
   ]
  },
  {
   "cell_type": "code",
   "execution_count": 7,
   "metadata": {},
   "outputs": [],
   "source": [
    "arr=[]\n",
    "for _ in range(100):\n",
    "    arr.append(binomial(n, p))"
   ]
  },
  {
   "cell_type": "code",
   "execution_count": 8,
   "metadata": {},
   "outputs": [
    {
     "data": {
      "text/plain": [
       "[2,\n",
       " 2,\n",
       " 1,\n",
       " 2,\n",
       " 2,\n",
       " 2,\n",
       " 1,\n",
       " 0,\n",
       " 2,\n",
       " 0,\n",
       " 2,\n",
       " 2,\n",
       " 1,\n",
       " 1,\n",
       " 1,\n",
       " 2,\n",
       " 1,\n",
       " 2,\n",
       " 2,\n",
       " 0,\n",
       " 2,\n",
       " 2,\n",
       " 2,\n",
       " 0,\n",
       " 1,\n",
       " 1,\n",
       " 2,\n",
       " 3,\n",
       " 1,\n",
       " 1,\n",
       " 1,\n",
       " 1,\n",
       " 2,\n",
       " 3,\n",
       " 1,\n",
       " 1,\n",
       " 0,\n",
       " 3,\n",
       " 1,\n",
       " 2,\n",
       " 3,\n",
       " 1,\n",
       " 1,\n",
       " 2,\n",
       " 3,\n",
       " 1,\n",
       " 0,\n",
       " 2,\n",
       " 1,\n",
       " 3,\n",
       " 2,\n",
       " 1,\n",
       " 1,\n",
       " 0,\n",
       " 1,\n",
       " 1,\n",
       " 1,\n",
       " 0,\n",
       " 0,\n",
       " 1,\n",
       " 2,\n",
       " 2,\n",
       " 1,\n",
       " 1,\n",
       " 0,\n",
       " 2,\n",
       " 3,\n",
       " 1,\n",
       " 3,\n",
       " 1,\n",
       " 2,\n",
       " 3,\n",
       " 0,\n",
       " 1,\n",
       " 1,\n",
       " 1,\n",
       " 3,\n",
       " 0,\n",
       " 1,\n",
       " 1,\n",
       " 1,\n",
       " 2,\n",
       " 3,\n",
       " 2,\n",
       " 0,\n",
       " 1,\n",
       " 1,\n",
       " 2,\n",
       " 2,\n",
       " 2,\n",
       " 1,\n",
       " 1,\n",
       " 0,\n",
       " 3,\n",
       " 2,\n",
       " 2,\n",
       " 1,\n",
       " 2,\n",
       " 1,\n",
       " 1]"
      ]
     },
     "execution_count": 8,
     "metadata": {},
     "output_type": "execute_result"
    }
   ],
   "source": [
    "arr"
   ]
  },
  {
   "cell_type": "code",
   "execution_count": 11,
   "metadata": {},
   "outputs": [],
   "source": [
    "def plot_hist(num_trials):\n",
    "    values = [0,1,2, 3]\n",
    "    arr=[]\n",
    "    for _ in range(num_trials):\n",
    "        arr.append(binomial(n,p))\n",
    "    sim = np.unique(arr, return_counts=True)[1]/len(arr)\n",
    "    teorica = [binom(3,0.5).pmf(k) for k in values]\n",
    "    plt.bar(values, sim, color = \"red\")\n",
    "    plt.bar(values, teorica, alpha=0.5, color=\"blue\")\n",
    "    plt.show()"
   ]
  },
  {
   "cell_type": "code",
   "execution_count": 10,
   "metadata": {},
   "outputs": [
    {
     "data": {
      "text/plain": [
       "array([0.14, 0.42, 0.32, 0.12])"
      ]
     },
     "execution_count": 10,
     "metadata": {},
     "output_type": "execute_result"
    }
   ],
   "source": [
    "np.unique(arr, return_counts=True)[1]/len(arr)"
   ]
  },
  {
   "cell_type": "code",
   "execution_count": 25,
   "metadata": {},
   "outputs": [
    {
     "data": {
      "image/png": "[encoded data removed]",
      "text/plain": [
       "<Figure size 640x480 with 1 Axes>"
      ]
     },
     "metadata": {},
     "output_type": "display_data"
    }
   ],
   "source": [
    "plot_hist(20)"
   ]
  },
  {
   "attachments": {},
   "cell_type": "markdown",
   "metadata": {},
   "source": [
    "### Distribución normal (gaussiana)\n",
    "\n",
    "$$ P(X) = \\frac{1}{\\sigma \\sqrt{ 2\\pi} } exp {-\\frac{1}{2}\\bigg(\\frac{X- \\mu}{\\sigma}\\bigg)^2}$$"
   ]
  },
  {
   "cell_type": "code",
   "execution_count": 26,
   "metadata": {},
   "outputs": [],
   "source": [
    "import pandas as pd\n",
    "import numpy as np\n",
    "import matplotlib.pyplot as plt\n",
    "from scipy.stats import norm"
   ]
  },
  {
   "cell_type": "code",
   "execution_count": 33,
   "metadata": {},
   "outputs": [],
   "source": [
    "def gaussian(x, mu, sigma):\n",
    "    return 1/(sigma*np.sqrt(2*np.pi))*np.exp(-0.5*pow((x-mu)/sigma,2))"
   ]
  },
  {
   "cell_type": "code",
   "execution_count": 34,
   "metadata": {},
   "outputs": [
    {
     "data": {
      "text/plain": [
       "[<matplotlib.lines.Line2D at 0x1ba0846f110>]"
      ]
     },
     "execution_count": 34,
     "metadata": {},
     "output_type": "execute_result"
    },
    {
     "data": {
      "image/png": "[encoded data removed]",
      "text/plain": [
       "<Figure size 640x480 with 1 Axes>"
      ]
     },
     "metadata": {},
     "output_type": "display_data"
    }
   ],
   "source": [
    "x = np.arange(-4, 4, 0.1)\n",
    "y = gaussian(x, 0.0, 1.0)\n",
    "plt.plot(x,y)"
   ]
  },
  {
   "cell_type": "code",
   "execution_count": 36,
   "metadata": {},
   "outputs": [
    {
     "data": {
      "text/plain": [
       "[<matplotlib.lines.Line2D at 0x1ba0865da90>]"
      ]
     },
     "execution_count": 36,
     "metadata": {},
     "output_type": "execute_result"
    },
    {
     "data": {
      "image/png": "[encoded data removed]",
      "text/plain": [
       "<Figure size 640x480 with 1 Axes>"
      ]
     },
     "metadata": {},
     "output_type": "display_data"
    }
   ],
   "source": [
    "dist = norm(0,1)\n",
    "x = np.arange(-4, 4, 0.1)\n",
    "y =[dist.pdf(value) for value in x]\n",
    "plt.plot(x,y)"
   ]
  },
  {
   "cell_type": "code",
   "execution_count": 37,
   "metadata": {},
   "outputs": [
    {
     "data": {
      "text/plain": [
       "[<matplotlib.lines.Line2D at 0x1ba08664d50>]"
      ]
     },
     "execution_count": 37,
     "metadata": {},
     "output_type": "execute_result"
    },
    {
     "data": {
      "image/png": "[encoded data removed]",
      "text/plain": [
       "<Figure size 640x480 with 1 Axes>"
      ]
     },
     "metadata": {},
     "output_type": "display_data"
    }
   ],
   "source": [
    "dist = norm(0,1)\n",
    "x = np.arange(-4, 4, 0.1)\n",
    "y =[dist.cdf(value) for value in x]\n",
    "plt.plot(x,y)"
   ]
  },
  {
   "cell_type": "markdown",
   "metadata": {},
   "source": []
  },
  {
   "attachments": {},
   "cell_type": "markdown",
   "metadata": {},
   "source": [
    "## Estimación de máxima verosimilitud (MLE)\n",
    "- escoger distribución\n",
    "- elegir parámetros de la distribución\n",
    "$$P(X;\\theta) = L(X; \\theta)$$\n",
    "\n",
    "$$max \\hspace{0.5em} L(X;\\theta) \\xrightarrow{} max \\prod_{i}P(X_{i};\\theta)$$\n",
    "\n",
    "$$max \\hspace{0.5em} log L(X;\\theta) \\xrightarrow{} max\\sum_{i} log P(X_{i};\\theta) $$\n",
    "\n",
    "Se convierte a log debido al underflow (las pc tienen problemas para trabajar con múmeros muy pequeños, con los convierto los números pequeños en negativos pero grandes)"
   ]
  },
  {
   "attachments": {},
   "cell_type": "markdown",
   "metadata": {},
   "source": [
    "### Regresión lineal con MLE\n",
    "$$y = b_{0}x+b_{1}$$\n",
    "$$P(y|x) \\xrightarrow{} \\sum_{i}logP(y_{i}|x_{i};h)$$\n",
    "\n",
    "Donde $h$ es el modelo que quiero ajustar, en este caso una función lineal.\n",
    "\n",
    "Considerando que los datos se distribuyen mediante una gaussiana (es la función P de MLE)\n"
   ]
  },
  {
   "attachments": {},
   "cell_type": "markdown",
   "metadata": {},
   "source": [
    "### Regresión logística\n",
    "Resuelve problemas de clasificación (es o no es).\n",
    "En lugar de una función lineal se tiene un función sigmoide:\n",
    "$$y = \\frac{1}{1+exp(-x)}$$"
   ]
  },
  {
   "attachments": {},
   "cell_type": "markdown",
   "metadata": {},
   "source": [
    "## Teorema de Bayes\n",
    "\n",
    "$$P(A|B) = \\frac{P(B|A)P(A)}{P(B)}$$\n",
    "$P(B|A)$ verosimilitud\n",
    "$P(A)$ probabilidad a priori\n",
    "$P(B)$ evidencia\n",
    "$P(A|B)$ probabilidad a posteriori"
   ]
  },
  {
   "attachments": {},
   "cell_type": "markdown",
   "metadata": {},
   "source": [
    "No dice cual es la probabilidad de que ocurra A luego de que ocurrio B"
   ]
  },
  {
   "attachments": {},
   "cell_type": "markdown",
   "metadata": {},
   "source": [
    "### MAP, probabilidad posterior al problema de Bayes\n",
    "$$P(h|D)=\\frac{P(D |h)P(h)}{P(D)}$$\n",
    "\n",
    "$$maxP(h|D) \\xrightarrow{} maxP(D|h)P(h)$$"
   ]
  }
 ],
 "metadata": {
  "kernelspec": {
   "display_name": "Python 3",
   "language": "python",
   "name": "python3"
  },
  "language_info": {
   "codemirror_mode": {
    "name": "ipython",
    "version": 3
   },
   "file_extension": ".py",
   "mimetype": "text/x-python",
   "name": "python",
   "nbconvert_exporter": "python",
   "pygments_lexer": "ipython3",
   "version": "3.11.1 (tags/v3.11.1:a7a450f, Dec  6 2022, 19:58:39) [MSC v.1934 64 bit (AMD64)]"
  },
  "orig_nbformat": 4,
  "vscode": {
   "interpreter": {
    "hash": "c261aea317cc0286b3b3261fbba9abdec21eaa57589985bb7a274bf54d6cc0a7"
   }
  }
 },
 "nbformat": 4,
 "nbformat_minor": 2
}
